{
 "cells": [
  {
   "cell_type": "markdown",
   "metadata": {},
   "source": [
    "# Mighty: Implementation Engineer Home Assignment by Olga Krieger"
   ]
  },
  {
   "cell_type": "markdown",
   "metadata": {},
   "source": [
    "## SQL Section \t\n",
    "0.  For each funding, return the funding_id and the agreement date.\n",
    ">SELECT id, agreement_date FROM Fundings;\n",
    "9.  Show me all attorneys that do NOT have a phone_number\n",
    ">SELECT id, full_name FROM Attorneys WHERE phone_number IS NULL;\n",
    "3.  What is the total amount advanced all time?\n",
    ">SELECT SUM(advance_amount) FROM Fundings;\n",
    "4.  For every case, return the attorney’s phone number and email.\n",
    ">SELECT Cases.id, phone_number, email FROM Cases\n",
    ">LEFT JOIN Attorneys ON (Attorneys.id = attorney_id);\n",
    "5.  For every case, return the total amount funded. \n",
    "\n",
    "    5.A. Assuming advanced amount qualifies as funded amount, the query will be: \n",
    "       >SELECT case_id, SUM(advance_amount) FROM Fundings GROUP BY case_id;\n",
    "\n",
    "    5.B. If advanced amount does not qualify as funded amount, but there was, say, funded_amount($) in Fundings, the query would be:\n",
    "    >SELECT case_id, SUM(funded_amount) FROM Fundings GROUP BY case_id;\n",
    "        \n",
    "6. Return all cases that have attorney name is exactly “Sal Goodman”.\n",
    ">SELECT case_id, full_name FROM Attorneys WHERE full_name  = ‘Sal Goodman’;\n",
    "7.  Return all case types, sorted alphabetically by name.\n",
    ">SELECT case_type FROM CaseType ORDER BY case_type;\n",
    "8.  Return all case types with the name of the case type and the number of cases of that type, each in its own row, without duplicates.\n",
    ">SELECT  case_type, COUNT(case_type) FROM CaseType GROUP BY case_type;\n",
    "9.  Rank the case types by the most frequent (most number of cases) to the least frequent with the number of cases of each type.\n",
    ">SELECT case_type, COUNT(case_type) FROM CaseType\n",
    ">GROUP BY case_type ORDER BY COUNT(case_type) DESC;"
   ]
  },
  {
   "cell_type": "markdown",
   "metadata": {},
   "source": [
    "## Python Section"
   ]
  },
  {
   "cell_type": "code",
   "execution_count": 41,
   "metadata": {},
   "outputs": [
    {
     "name": "stdout",
     "output_type": "stream",
     "text": [
      "000-00-9876\n",
      "987-65-4321\n",
      "123-45-6789\n",
      "789-52-6345\n",
      "000-12-3456\n",
      "\n",
      "123-45-6791\n"
     ]
    }
   ],
   "source": [
    "## test cases option\n",
    "\n",
    "# the test list \n",
    "numbers = ['9876', '987654321', '1234567891', '789526345 -- clietn ssn', 'XXX-12-3456', ' ', 'qwerty123--4567a910']\n",
    "\n",
    "def clean(ssn):\n",
    "    # stripping of dashes in case there are any \n",
    "    ssn = ssn.replace(\"-\", \"\")\n",
    "    # leaving only the digits\n",
    "    new_ssn = \"\"\n",
    "    for c in ssn:\n",
    "        if c.isdigit():\n",
    "            new_ssn += c\n",
    "    # dealing with length conditions        \n",
    "    if len(new_ssn) == 0:\n",
    "        return new_ssn\n",
    "    if len(new_ssn) > 9:\n",
    "        new_ssn = new_ssn[:9]\n",
    "    elif len(new_ssn) < 9:\n",
    "        new_ssn = (new_ssn.zfill(9))\n",
    "    # re-introducing the dashes\n",
    "    new_ssn = new_ssn[:3] + '-' + new_ssn[3:5] + '-' + new_ssn[5:]\n",
    "    return (new_ssn)\n",
    "\n",
    "#looping over the list of SSNs\n",
    "for num in numbers:\n",
    "    print(clean(num))"
   ]
  },
  {
   "cell_type": "code",
   "execution_count": 43,
   "metadata": {
    "scrolled": true
   },
   "outputs": [
    {
     "name": "stdout",
     "output_type": "stream",
     "text": [
      "enter SSN:  23456\n",
      "000-02-3456\n"
     ]
    }
   ],
   "source": [
    "# user input option\n",
    "def clean2(ssn):\n",
    "    ssn = input(str(\"enter SSN (and press enter):  \"))\n",
    "    ssn = ssn.replace(\"-\", \"\")\n",
    "    new_ssn = \"\"\n",
    "    for c in ssn:\n",
    "        if c.isdigit():\n",
    "            new_ssn += c\n",
    "    if len(new_ssn) == 0:\n",
    "        return new_ssn\n",
    "    if len(new_ssn) > 9:\n",
    "        new_ssn = new_ssn[:9]\n",
    "    elif len(new_ssn) < 9:\n",
    "        new_ssn = (new_ssn.zfill(9)) \n",
    "    new_ssn = new_ssn[:3] + '-' + new_ssn[3:5] + '-' + new_ssn[5:]\n",
    "    return(new_ssn)\n",
    "print(clean2(num))"
   ]
  }
 ],
 "metadata": {
  "kernelspec": {
   "display_name": "Python 3",
   "language": "python",
   "name": "python3"
  },
  "language_info": {
   "codemirror_mode": {
    "name": "ipython",
    "version": 3
   },
   "file_extension": ".py",
   "mimetype": "text/x-python",
   "name": "python",
   "nbconvert_exporter": "python",
   "pygments_lexer": "ipython3",
   "version": "3.6.3"
  }
 },
 "nbformat": 4,
 "nbformat_minor": 2
}
